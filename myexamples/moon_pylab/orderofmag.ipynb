{
 "cells": [
  {
   "cell_type": "code",
   "execution_count": 31,
   "metadata": {},
   "outputs": [
    {
     "name": "stdout",
     "output_type": "stream",
     "text": [
      "Populating the interactive namespace from numpy and matplotlib\n",
      "The autoreload extension is already loaded. To reload it, use:\n",
      "  %reload_ext autoreload\n"
     ]
    }
   ],
   "source": [
    "import numpy as np\n",
    "import matplotlib.pyplot as plt\n",
    "import heat\n",
    "%pylab inline\n",
    "%load_ext autoreload  \n",
    "%autoreload 2"
   ]
  },
  {
   "cell_type": "code",
   "execution_count": 39,
   "metadata": {},
   "outputs": [
    {
     "name": "stdout",
     "output_type": "stream",
     "text": [
      "tg =1034 s\n",
      "eg =39.5 GPa\n",
      "En_g =2.1e+29 J\n",
      "V_g =1.7e+03 m/s\n",
      "rhobar 3343.9\n"
     ]
    }
   ],
   "source": [
    "M_moon=7.342e22 #kg\n",
    "R_moon=1737.1*1e3 # km to m, this is mean radius\n",
    "G_mks = 6.674e-11 # mks\n",
    "t_g = np.sqrt(R_moon**3/(G_mks*M_moon))\n",
    "e_g = G_mks*M_moon**2*R_moon**-4  #energy density\n",
    "En_g = G_mks*M_moon**2/R_moon  # energy\n",
    "V_g = np.sqrt(G_mks*M_moon/R_moon)\n",
    "print(\"tg ={:.0f} s\".format(t_g))\n",
    "print(\"eg ={:.1f} GPa\".format(e_g/1e9))\n",
    "print(\"En_g ={:.1e} J\".format(En_g))\n",
    "print(\"V_g ={:.1e} m/s\".format(V_g))\n",
    "Volume = (4.0*np.pi/3.0)*R_moon**3  # m^3\n",
    "rhobar = M_moon/Volume\n",
    "print('rhobar {:.1f}'.format(rhobar))"
   ]
  },
  {
   "cell_type": "code",
   "execution_count": 38,
   "metadata": {},
   "outputs": [
    {
     "name": "stdout",
     "output_type": "stream",
     "text": [
      "dote_radg = 1.1e-14\n"
     ]
    }
   ],
   "source": [
    "# for 232 Th currently \n",
    "e_232_kg = 3e-12  # W/kg is mks unit but not energy per unit volume\n",
    "# this is energy per unit time per mass\n",
    "#factor of 10 is for early time\n",
    "dote_radg = e_232_kg*10*M_moon*t_g/En_g\n",
    "print('dote_radg = {:.1e}'.format(dote_radg))\n",
    "\n",
    "#rho_earth = 5.514e3  # g/cm 3 to kg/m^3\n",
    "#e_radiogenic = 10*e_238_kg*rho_earth  # is now in Pa, factor of 10 is for early time\n",
    "#print(\"dot e_radiogenic = {:.1e} Pa/s\".format(e_radiogenic))\n",
    "#print(\"dot e_radiogenic*t_g/e_g = {:.1e} \".format(e_radiogenic*t_g/e_g))\n",
    "# is approximately consistent.\n",
    "# radiogenic heating is very small in gravitational units"
   ]
  },
  {
   "cell_type": "code",
   "execution_count": 21,
   "metadata": {},
   "outputs": [
    {
     "name": "stdout",
     "output_type": "stream",
     "text": [
      "R_earth/R_moon = 3.67\n"
     ]
    }
   ],
   "source": [
    "print('R_earth/R_moon = {:.2f}'.format(R_earth/R_moon))"
   ]
  },
  {
   "cell_type": "code",
   "execution_count": 25,
   "metadata": {},
   "outputs": [
    {
     "name": "stdout",
     "output_type": "stream",
     "text": [
      "2.587951639097712e-13\n"
     ]
    }
   ],
   "source": [
    "a_moon = 3*R_earth\n",
    "tidefac = (M_moon/M_earth)**2.5*(R_moon/a_moon)**7.5\n",
    "print(tidefac)"
   ]
  },
  {
   "cell_type": "code",
   "execution_count": 28,
   "metadata": {},
   "outputs": [
    {
     "name": "stdout",
     "output_type": "stream",
     "text": [
      "M_earth/M_moon = 81.3\n"
     ]
    }
   ],
   "source": [
    "print('M_earth/M_moon = {:.1f}'.format( M_earth/M_moon))"
   ]
  },
  {
   "cell_type": "code",
   "execution_count": 36,
   "metadata": {},
   "outputs": [
    {
     "name": "stdout",
     "output_type": "stream",
     "text": [
      "C_P/En_g 6.1e-27\n"
     ]
    }
   ],
   "source": [
    "C_P = 1256 # J kg^-1 C^-1  #heat capacity from tien+17 paper\n",
    "cp_bar = C_P/En_g\n",
    "print('C_P/En_g {:.1e}'.format(cp_bar))"
   ]
  },
  {
   "cell_type": "code",
   "execution_count": 40,
   "metadata": {},
   "outputs": [
    {
     "name": "stdout",
     "output_type": "stream",
     "text": [
      "D_T/(V_g^2 t_g) 3.4e-16\n"
     ]
    }
   ],
   "source": [
    "D_T = 1e-6  # m^2/s thermal diffusivity\n",
    "barDT = D_T/(V_g**2*t_g)\n",
    "print('D_T/(V_g^2 t_g) {:.1e}'.format(barDT))\n",
    "# this essentially gives the cooling time in units of tg"
   ]
  },
  {
   "cell_type": "code",
   "execution_count": 41,
   "metadata": {},
   "outputs": [
    {
     "name": "stdout",
     "output_type": "stream",
     "text": [
      "2917512338.39\n"
     ]
    }
   ],
   "source": [
    "print(V_g**2*t_g)"
   ]
  },
  {
   "cell_type": "code",
   "execution_count": null,
   "metadata": {},
   "outputs": [],
   "source": []
  }
 ],
 "metadata": {
  "kernelspec": {
   "display_name": "Python 3",
   "language": "python",
   "name": "python3"
  },
  "language_info": {
   "codemirror_mode": {
    "name": "ipython",
    "version": 3
   },
   "file_extension": ".py",
   "mimetype": "text/x-python",
   "name": "python",
   "nbconvert_exporter": "python",
   "pygments_lexer": "ipython3",
   "version": "3.6.0"
  }
 },
 "nbformat": 4,
 "nbformat_minor": 2
}
